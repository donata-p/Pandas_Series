{
 "cells": [
  {
   "cell_type": "code",
   "execution_count": 1,
   "id": "5729ff00",
   "metadata": {},
   "outputs": [
    {
     "name": "stdout",
     "output_type": "stream",
     "text": [
      "123              Law Endorcement\n",
      "224      Fire and Rescue Service\n",
      "101    Emergency Meducal Service\n",
      "999         Emergency Management\n",
      "900                 Public Works\n",
      "dtype: object\n"
     ]
    }
   ],
   "source": [
    "# Emergency numbers: Law Enforcement (123), Fire and Rescue Services (224), \n",
    "# Emergency Medical Services (101), Emergency Management (999), and Public Works (900).\n",
    "\n",
    "# Import the library\n",
    "import pandas as pd\n",
    "\n",
    "# Create a dictionary\n",
    "dict_1 = {'123': 'Law Endorcement',\n",
    "          '224': 'Fire and Rescue Service',\n",
    "          '101': 'Emergency Meducal Service',\n",
    "          '999': 'Emergency Management',\n",
    "          '900': 'Public Works'}\n",
    "\n",
    "# Create a Series \n",
    "emergency_numbers = pd.Series(dict_1)\n",
    "\n",
    "# View the result by passing or calling the print() function\n",
    "print(emergency_numbers)"
   ]
  },
  {
   "cell_type": "code",
   "execution_count": 2,
   "id": "751c5ab3",
   "metadata": {},
   "outputs": [
    {
     "name": "stdout",
     "output_type": "stream",
     "text": [
      "1      Prevention\n",
      "2      Mitigation\n",
      "3    Preparedness\n",
      "4        Response\n",
      "5        Recovery\n",
      "dtype: object\n"
     ]
    }
   ],
   "source": [
    "# Emergency protocols: Prevention, mitigation, preparedness, response, and recovery.\n",
    "\n",
    "# Create a numbered list\n",
    "emergency_protocols = pd.Series(['Prevention', 'Mitigation',\n",
    "                                 'Preparedness', 'Response', \n",
    "                                 'Recovery'],\n",
    "                                index = ['1', '2', '3', '4', '5'])\n",
    "\n",
    "# View the DataFrame\n",
    "print(emergency_protocols)"
   ]
  },
  {
   "cell_type": "code",
   "execution_count": 3,
   "id": "6a467ffe",
   "metadata": {},
   "outputs": [
    {
     "name": "stdout",
     "output_type": "stream",
     "text": [
      "0                    Check carotid pulse (neck)\n",
      "1                        Check breathing (nose)\n",
      "2    Check for obstructions (nose, ears, mouth)\n",
      "3                     Check pupils (responsive)\n",
      "4                                 Consciousness\n",
      "5                               Contact details\n",
      "6                                 Any allergies\n",
      "dtype: object\n"
     ]
    }
   ],
   "source": [
    "# Emergency checklist: Check pulse (neck), breathing (nose), \n",
    "# obstructions (nose, ears, mouth), pupils (responsive), \n",
    "# consciousness, contact details, and allergies.\n",
    "\n",
    "# Create a Series from a list\n",
    "checklist = ['Check carotid pulse (neck)', 'Check breathing (nose)',\n",
    "             'Check for obstructions (nose, ears, mouth)', \n",
    "             'Check pupils (responsive)', 'Consciousness',\n",
    "             'Contact details', 'Any allergies']\n",
    "\n",
    "emergency_checklist = pd.Series(checklist)\n",
    "\n",
    "# View the DataFrame\n",
    "print(emergency_checklist)"
   ]
  },
  {
   "cell_type": "code",
   "execution_count": null,
   "id": "2f0dae53",
   "metadata": {},
   "outputs": [],
   "source": []
  }
 ],
 "metadata": {
  "kernelspec": {
   "display_name": "Python 3 (ipykernel)",
   "language": "python",
   "name": "python3"
  },
  "language_info": {
   "codemirror_mode": {
    "name": "ipython",
    "version": 3
   },
   "file_extension": ".py",
   "mimetype": "text/x-python",
   "name": "python",
   "nbconvert_exporter": "python",
   "pygments_lexer": "ipython3",
   "version": "3.9.7"
  }
 },
 "nbformat": 4,
 "nbformat_minor": 5
}
